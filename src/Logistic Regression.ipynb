{
 "cells": [
  {
   "cell_type": "markdown",
   "metadata": {},
   "source": [
    "# Logistic Regression"
   ]
  },
  {
   "cell_type": "markdown",
   "metadata": {},
   "source": [
    "This code is implementing logistic regression in Python using batch gradient descent.\n",
    "\n",
    "I will be using the example: \"Probability of passing an exam versus hours of study\" mentioned here: https://en.wikipedia.org/wiki/Logistic_regression.\n",
    "\n",
    "In summary, a student can either **pass** or **fail** the class; this means there is a binary outcome of this question. Since 1 and 0 are not cardinal numbers, logistic regression can be used to predict the probability of passing or failing the class of the student. The implemented class will have two constructing parameters; *learning rate* and *periods*. Learning rate is used to limit the correction of each coefficient every time it is updated. Periods, on the other hand, limits the number of iterations as the fit() method depends on the amount.\n",
    "\n",
    "The *hypothesis function* is a significant element of the class and is used to generate probabilities out of the given data. With the sigmoid calculation, we can have values very close to either 0 or 1, and this makes it suitable for the classification algorithm. As the value approaches zero, the natural algorithm of z goes negative infinity. When z is one, the log of z is zero. Thus the addition of 1 also prevents the dividing by zero exception.\n",
    "\n",
    "The *loss function* uses cross-entropy for calculation compared to the mean squared error in linear regression. The method uses the status of y as the primary point an gives the output depending either y is one or zero. This makes the returned value either always increasing or always decreasing. In the end, the lost function eases the calculation of gradient and minimizes the cost.\n",
    "\n",
    "The *fit* method is the primary field of this class, where the computation happens a specific period of time. At the end of each iteration, the generated value, cost, is saved into a list called costs. The final product, costs, is used to plot and calculating the converged value. \n",
    "\n",
    "The functions, *get_probabilities()*, and *predict()*, give a prediction based on the original data on the passing grade. The first function takes the information, create a matrix with 1's, and returns of its sigmoid value. This is used in the predict() method, which is compared to the required threshold. In our problem, the threshold called pass_grade as it concerns only this data for the coursework.\n",
    "\n",
    "If the data changes, the threshold needs to be changed in the predict method so we can comply with requirements."
   ]
  },
  {
   "cell_type": "code",
   "execution_count": 120,
   "metadata": {
    "colab": {},
    "colab_type": "code",
    "id": "ZAcPrhKd_2rs"
   },
   "outputs": [],
   "source": [
    "import numpy as np\n",
    "import matplotlib.pyplot as plt"
   ]
  },
  {
   "cell_type": "code",
   "execution_count": 121,
   "metadata": {
    "colab": {},
    "colab_type": "code",
    "id": "Kl_dGwXc_2r-"
   },
   "outputs": [],
   "source": [
    "# Original data in the Coursework brief\n",
    "X = np.asarray ([[0.50], [0.75], [1.00], [1.25], [1.50], [1.75], [3.00], \n",
    "                 [4.75], [1.75], [3.25], [5.00], [2.00], [2.25], [2.50], \n",
    "                 [2.75], [3.50], [4.00], [4.25], [4.50], [5.50]])\n",
    "y = np.asarray([0, 0, 0, 0, 0, 0, 1, 0, 1, 0, 1,0,1,0,1,1,1,1,1,1])\n",
    "\n",
    "# Create training sets\n",
    "X_train = np.asarray ([[0.50], [0.75], [1.00], [1.25], [1.50], [1.75], [3.00], [4.75], [1.75], [3.25], [5.00], [2.00], [2.25], [2.50], [2.75]])\n",
    "y_train = np.asarray([0, 0, 0, 0, 0, 0, 1, 0, 1, 0, 1,0,1,0,1])\n",
    "\n",
    "# Create test sets\n",
    "X_test = np.asarray ([[3.50], [4.00], [4.25], [4.50], [5.50]])\n",
    "y_test = np.asarray([1,1,1,1,1])"
   ]
  },
  {
   "cell_type": "markdown",
   "metadata": {},
   "source": [
    "**Class Implementation**\n",
    "\n",
    "The primary class, excluding the constructor, consisting of 8 functions; and 5 of them are actively used during the prediction process."
   ]
  },
  {
   "cell_type": "code",
   "execution_count": 122,
   "metadata": {
    "colab": {},
    "colab_type": "code",
    "id": "eE-_sYqK_2sH"
   },
   "outputs": [],
   "source": [
    "class LogisticRegression:\n",
    "  \"\"\"\n",
    "  A Class implementation of Logistic Regression.\n",
    "\n",
    "  ...\n",
    "\n",
    "  Attributes\n",
    "  ----------\n",
    "  lr: float\n",
    "    learning rate of the algorithm\n",
    "  periods: int\n",
    "    number of times the function iterating\n",
    "\n",
    "  Methods\n",
    "  -------\n",
    "  get_intercept(X):\n",
    "    Converts the array given into another matrix with 1's\n",
    "  sigmoid(z):\n",
    "    Logistic function to generate probabilities\n",
    "  loss(h, y):\n",
    "    Cross entropy loss function\n",
    "    If y = 1 => returns -log(h(x))\n",
    "    If y = 1 => returns -log(1-h(x))\n",
    "  fit(X, y):\n",
    "    The gradient descent function to input values for the model\n",
    "    In each iteration the result is stored in a data structure called costs\n",
    "  get_probabilities(X):\n",
    "    Returns the logistic regression hypothesis\n",
    "  predict(X, pass_grade):\n",
    "    Returns the pass or fail grade for all students\n",
    "  \"\"\"\n",
    "\n",
    "\n",
    "  def __init__(self, lr=0.5, periods=100000):\n",
    "     \"\"\"\n",
    "     Constructs all the necessary attributes for the Logistic Regression object\n",
    "\n",
    "      Parameters\n",
    "      ----------\n",
    "      lr: float\n",
    "        learning rate of the algorithm, also called alpha\n",
    "      periods: int\n",
    "        number of times the function iterating\n",
    "     \"\"\"\n",
    "\n",
    "     self.lr = lr\n",
    "     self.periods = periods\n",
    "\n",
    "     # save the value of the loss function on each iteration in a data structure\n",
    "     self.costs = []\n",
    "     self.high_alfa_costs = []\n",
    "\n",
    "        \n",
    "  def get_intercept(self, X):\n",
    "    '''\n",
    "    Converts the array given into another matrix with 1's\n",
    "    '''\n",
    "    intercept = np.ones((X.shape[0], 1))\n",
    "    return np.concatenate((intercept, X), axis=1)\n",
    "\n",
    "\n",
    "  def sigmoid(self, z):\n",
    "    '''\n",
    "    Logistic function to generate probabilities\n",
    "    '''\n",
    "    return 1 / (1 + np.exp(-z))\n",
    "\n",
    "\n",
    "  def loss(self, hypothesis, y):\n",
    "    '''\n",
    "    Cross entropy (log) loss function\n",
    "    \n",
    "    If y = 1 => returns -log(h(x))\n",
    "    If y = 1 => returns -log(1-h(x))\n",
    "    '''\n",
    "    return (-y * np.log(hypothesis) - (1 - y) * np.log(1 - hypothesis)).mean()\n",
    "\n",
    "\n",
    "  def fit(self, X, y):\n",
    "    '''\n",
    "    The gradient descent function to input values for the model\n",
    "    In each iteration the result is stored in a data structure called costs\n",
    "    '''\n",
    "\n",
    "    # Converting the data to intercept values\n",
    "    X = self.get_intercept(X)\n",
    "\n",
    "    # Creating weights\n",
    "    self.theta = np.zeros(X.shape[1])\n",
    "\n",
    "    # Iterating through number of times specified\n",
    "    # To get optimal results repetition is necessary\n",
    "    for i in range(self.periods):\n",
    "        \n",
    "        # Logistic Rgression (actually classification!)\n",
    "        z = np.dot(X, self.theta)\n",
    "\n",
    "        # Assigning the logistic function (hypothesis) into a variable\n",
    "        hypothesis = self.sigmoid(z)\n",
    "\n",
    "        # Creating the gradient --> it will tell how loss would change if the parameters modified\n",
    "        loss = hypothesis - y\n",
    "        m = y.size\n",
    "        gradient = np.dot(X.T, (loss)) / m\n",
    "\n",
    "        # Updating the weights by substracting derivative and multiplying with the learning rate\n",
    "        self.theta -= gradient * self.lr\n",
    "\n",
    "        ########################################\n",
    "        self.high_alfa_costs.append(gradient)\n",
    "\n",
    "        # Assigning the cost of the logistic regression and then appending into the list\n",
    "        cost = np.round(self.loss(hypothesis, y), 8)\n",
    "        self.costs.append(cost)\n",
    "\n",
    "\n",
    "  def get_probabilities(self, X):\n",
    "    '''\n",
    "    Get the mark probability by calling logistic function\n",
    "    '''\n",
    "    X = self.get_intercept(X)\n",
    "    return self.sigmoid(np.dot(X, self.theta))\n",
    "\n",
    "\n",
    "  def predict(self, X, pass_grade):\n",
    "    '''\n",
    "    Compare the probability with pass grade\n",
    "    Takes data and threshold and returns the prediction\n",
    "    '''\n",
    "    return self.get_probabilities(X) >= pass_grade\n",
    "\n",
    "  \n",
    "  def plot_loss_function(self, costs):\n",
    "    '''\n",
    "    Plot loss function with respect to iterations\n",
    "    '''\n",
    "    plt.figure(figsize=(30, 10))\n",
    "    plt.scatter(range(len(costs)), costs)\n",
    "    plt.xlabel('Loss', fontsize=25)\n",
    "    plt.ylabel('Periods', fontsize=25)\n",
    "    plt.show()\n",
    "\n",
    "    \n",
    "  def check_converge(self, costs):\n",
    "    '''\n",
    "    Returns the duplicating element with last iteration\n",
    "    '''\n",
    "    end_value = costs[len(costs)-1]\n",
    "    for i in range(len(costs)):\n",
    "        if end_value == costs[i]:\n",
    "            return i"
   ]
  },
  {
   "cell_type": "markdown",
   "metadata": {},
   "source": [
    "**Running the code**"
   ]
  },
  {
   "cell_type": "code",
   "execution_count": 123,
   "metadata": {
    "colab": {
     "base_uri": "https://localhost:8080/",
     "height": 111
    },
    "colab_type": "code",
    "executionInfo": {
     "elapsed": 864,
     "status": "ok",
     "timestamp": 1587422897787,
     "user": {
      "displayName": "Gokhan",
      "photoUrl": "https://lh3.googleusercontent.com/a-/AOh14GgsK4EW4CvfHqes8NGS0ei9ykNarAcKx9buUHsg=s64",
      "userId": "16731755726220205415"
     },
     "user_tz": -60
    },
    "id": "9fKoATP3_2sM",
    "outputId": "8e138bed-9797-4be9-a568-079a22157b9c",
    "scrolled": false
   },
   "outputs": [
    {
     "name": "stdout",
     "output_type": "stream",
     "text": [
      "Predictions: [ True  True  True  True  True]\n",
      "Accuracy of the model: 1.0\n",
      "Theta of the model [-2.92021474  1.06618641]\n"
     ]
    }
   ],
   "source": [
    "# Create the model\n",
    "model = LogisticRegression(lr=0.5, periods=1500)\n",
    "model.fit(X, y)\n",
    "\n",
    "# Get predictions\n",
    "predictions = model.predict(X_test, 0.5)\n",
    "print(f'Predictions: {predictions}')\n",
    "\n",
    "# Get Accuracy and Theta values\n",
    "model_accuracy = (predictions == y_test).mean()\n",
    "print(f'Accuracy of the model: {model_accuracy}')\n",
    "print(f'Theta of the model {model.theta}')"
   ]
  },
  {
   "cell_type": "markdown",
   "metadata": {},
   "source": [
    "**After how many iterations, and for which learning rate (α) did the\n",
    "algorithm converge?**"
   ]
  },
  {
   "cell_type": "code",
   "execution_count": 124,
   "metadata": {
    "colab": {
     "base_uri": "https://localhost:8080/",
     "height": 420
    },
    "colab_type": "code",
    "executionInfo": {
     "elapsed": 1419,
     "status": "ok",
     "timestamp": 1587422898349,
     "user": {
      "displayName": "Gokhan",
      "photoUrl": "https://lh3.googleusercontent.com/a-/AOh14GgsK4EW4CvfHqes8NGS0ei9ykNarAcKx9buUHsg=s64",
      "userId": "16731755726220205415"
     },
     "user_tz": -60
    },
    "id": "wVGLeHEC_2sS",
    "outputId": "ff76100e-fb3f-488c-8d55-7e74f09f8213"
   },
   "outputs": [
    {
     "name": "stdout",
     "output_type": "stream",
     "text": [
      "Algorithm converges at 637 with 0.5 α rate.\n"
     ]
    },
    {
     "data": {
      "image/png": "[encoded data removed]",
      "text/plain": [
       "<Figure size 2160x720 with 1 Axes>"
      ]
     },
     "metadata": {
      "needs_background": "light"
     },
     "output_type": "display_data"
    }
   ],
   "source": [
    "# Get the converge value\n",
    "duplicate = model.check_converge(model.costs)\n",
    "print(f'Algorithm converges at {duplicate} with 0.5 α rate.')\n",
    "\n",
    "# Plot the lost function with respect to iterations\n",
    "model.plot_loss_function(model.costs)"
   ]
  },
  {
   "cell_type": "markdown",
   "metadata": {},
   "source": [
    "**What happens if α is too large?**"
   ]
  },
  {
   "cell_type": "markdown",
   "metadata": {},
   "source": [
    "The optimal learning rate should swiftly approach to the minimum point. However, if the learning rate is too large, the training will happen very fast, and this will cause irregular behaviour to the loss function. Since the loss function is always increasing or always decreasing the updates will change drastically. That means the point might go from one end to an entirely different spot on the graph and may never reach the minimum end. This is called divergent behaviour."
   ]
  },
  {
   "cell_type": "code",
   "execution_count": 125,
   "metadata": {
    "colab": {
     "base_uri": "https://localhost:8080/",
     "height": 652
    },
    "colab_type": "code",
    "executionInfo": {
     "elapsed": 2227,
     "status": "ok",
     "timestamp": 1587422899166,
     "user": {
      "displayName": "Gokhan",
      "photoUrl": "https://lh3.googleusercontent.com/a-/AOh14GgsK4EW4CvfHqes8NGS0ei9ykNarAcKx9buUHsg=s64",
      "userId": "16731755726220205415"
     },
     "user_tz": -60
    },
    "id": "Gh5TDDGo_2sZ",
    "outputId": "55e624e1-9039-4740-fb0b-aae2be376bee"
   },
   "outputs": [
    {
     "data": {
      "image/png": "[encoded data removed]",
      "text/plain": [
       "<Figure size 2160x720 with 1 Axes>"
      ]
     },
     "metadata": {
      "needs_background": "light"
     },
     "output_type": "display_data"
    }
   ],
   "source": [
    "model_w_high_rate = LogisticRegression(lr=5, periods=1500)\n",
    "model_w_high_rate.fit(X_train, y_train)\n",
    "model_w_high_rate.plot_loss_function(model_w_high_rate.costs)"
   ]
  },
  {
   "cell_type": "markdown",
   "metadata": {},
   "source": [
    "**Finally**\n",
    "\n",
    "In order to go further, we need optimization. To handle that we can apply a regularization algorithm. Since the algorithm favours the high values in the coefficients, we need to use a solution to the loss function penalizing them. This means we can eliminate high values; otherwise, the model will learn all the details of the training set and overfit for our solution.  \n",
    "There are two types of regularization; Laplace and Gauss. Laplace scatters the coefficient vectors and, Gauss, on the other hand, minimize the large values with small values. From this definition, I assume the Gauss regularization will be the solution to our problem. The updated loss function for the regularization can be inspected below."
   ]
  },
  {
   "cell_type": "code",
   "execution_count": 126,
   "metadata": {},
   "outputs": [],
   "source": [
    "def loss_with_gauss(self, hypothesis, y):\n",
    "    '''\n",
    "    Cross entropy (log) loss function with Gauss regularization\n",
    "    '''\n",
    "    loss = 0\n",
    "    for i in len(hypothesis):\n",
    "        loss += hypothesis[i]\n",
    "    loss = loss * 1/2\n",
    "    cross_entropy = (-y * np.log(hypothesis) - (1 - y) * np.log(1 - hypothesis))\n",
    "    result = loss * cross_entropy\n",
    "    return result.mean()"
   ]
  }
 ],
 "metadata": {
  "colab": {
   "collapsed_sections": [],
   "name": "Logistic Regression CourseWork.ipynb",
   "provenance": []
  },
  "kernelspec": {
   "display_name": "Python 3",
   "language": "python",
   "name": "python3"
  },
  "language_info": {
   "codemirror_mode": {
    "name": "ipython",
    "version": 3
   },
   "file_extension": ".py",
   "mimetype": "text/x-python",
   "name": "python",
   "nbconvert_exporter": "python",
   "pygments_lexer": "ipython3",
   "version": "3.7.7"
  }
 },
 "nbformat": 4,
 "nbformat_minor": 1
}
